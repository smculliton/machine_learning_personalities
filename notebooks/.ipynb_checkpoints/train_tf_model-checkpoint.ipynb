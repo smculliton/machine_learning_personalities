{
 "cells": [
  {
   "cell_type": "code",
   "execution_count": 8,
   "id": "6e30402f-66ee-43be-8f2e-10a83c7495a9",
   "metadata": {},
   "outputs": [
    {
     "name": "stdout",
     "output_type": "stream",
     "text": [
      "   Time_spent_Alone  Stage_fear  Social_event_attendance  Going_outside  \\\n",
      "0               4.0         0.0                      4.0            6.0   \n",
      "1               9.0         1.0                      0.0            0.0   \n",
      "2               9.0         1.0                      1.0            2.0   \n",
      "3               0.0         0.0                      6.0            7.0   \n",
      "4               3.0         0.0                      9.0            4.0   \n",
      "\n",
      "   Drained_after_socializing  Friends_circle_size  Post_frequency Personality  \n",
      "0                        0.0                 13.0             5.0   Extrovert  \n",
      "1                        1.0                  0.0             3.0   Introvert  \n",
      "2                        1.0                  5.0             2.0   Introvert  \n",
      "3                        0.0                 14.0             8.0   Extrovert  \n",
      "4                        0.0                  8.0             5.0   Extrovert  \n"
     ]
    }
   ],
   "source": [
    "import pandas as pd\n",
    "import numpy as np\n",
    "import tensorflow as tf\n",
    "from sklearn.model_selection import train_test_split\n",
    "from sklearn.preprocessing import StandardScaler, LabelEncoder\n",
    "\n",
    "# Load data\n",
    "df = pd.read_csv(\"../data/personality_dataset.csv\")  # note the relative path from notebooks/\n",
    "# Map 'Yes' to 1, 'No' to 0 for those columns\n",
    "df['Stage_fear'] = df['Stage_fear'].map({'Yes': 1, 'No': 0})\n",
    "df['Drained_after_socializing'] = df['Drained_after_socializing'].map({'Yes': 1, 'No': 0})\n",
    "\n",
    "print(df.head())\n"
   ]
  },
  {
   "cell_type": "code",
   "execution_count": 9,
   "id": "b9e05755-2f82-40ab-b810-55afb205fb2d",
   "metadata": {},
   "outputs": [
    {
     "name": "stdout",
     "output_type": "stream",
     "text": [
      "Train: (2030, 7), Val: (435, 7), Test: (435, 7)\n"
     ]
    }
   ],
   "source": [
    "X = df.drop(\"Personality\", axis=1)\n",
    "y = df[\"Personality\"]\n",
    "\n",
    "# Split data into training and testing sets\n",
    "X_train, X_test, y_train, y_test = train_test_split(X, y, test_size=0.3, random_state=42, stratify=y)\n",
    "\n",
    "X_val, X_test, y_val, y_test = train_test_split(X_test, y_test, test_size=0.5, random_state=42)\n",
    "\n",
    "print(f\"Train: {X_train.shape}, Val: {X_val.shape}, Test: {X_test.shape}\")\n"
   ]
  },
  {
   "cell_type": "code",
   "execution_count": 12,
   "id": "6ad78ce2-8c1e-48ce-a050-2bdc644db890",
   "metadata": {},
   "outputs": [
    {
     "name": "stdout",
     "output_type": "stream",
     "text": [
      "Y labels: [0 1 0 1 1]\n"
     ]
    }
   ],
   "source": [
    "# Encode y values\n",
    "le = LabelEncoder()\n",
    "y_train_encoded = le.fit_transform(y_train)\n",
    "y_val_encoded = le.transform(y_val)\n",
    "y_test_encoded = le.transform(y_test)\n",
    "\n",
    "print(f\"Y labels: {y_train_encoded[:5]}\")"
   ]
  },
  {
   "cell_type": "code",
   "execution_count": 13,
   "id": "e5582c27-b2b7-4200-b957-67d745f1c3de",
   "metadata": {},
   "outputs": [],
   "source": [
    "scaler = StandardScaler()\n",
    "X_train_scaled = scaler.fit_transform(X_train)\n",
    "X_val_scaled = scaler.transform(X_val)\n",
    "X_test_scaled = scaler.transform(X_test)"
   ]
  },
  {
   "cell_type": "code",
   "execution_count": null,
   "id": "84128f3c-05e7-403c-bcc0-86b2c26beba1",
   "metadata": {},
   "outputs": [],
   "source": []
  }
 ],
 "metadata": {
  "kernelspec": {
   "display_name": "Python 3 (ipykernel)",
   "language": "python",
   "name": "python3"
  },
  "language_info": {
   "codemirror_mode": {
    "name": "ipython",
    "version": 3
   },
   "file_extension": ".py",
   "mimetype": "text/x-python",
   "name": "python",
   "nbconvert_exporter": "python",
   "pygments_lexer": "ipython3",
   "version": "3.10.13"
  }
 },
 "nbformat": 4,
 "nbformat_minor": 5
}
